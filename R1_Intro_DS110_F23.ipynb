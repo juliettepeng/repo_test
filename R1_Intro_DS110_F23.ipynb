{
  "cells": [
    {
      "cell_type": "markdown",
      "metadata": {
        "id": "view-in-github",
        "colab_type": "text"
      },
      "source": [
        "<a href=\"https://colab.research.google.com/github/juliettepeng/repo_test/blob/main/R1_Intro_DS110_F23.ipynb\" target=\"_parent\"><img src=\"https://colab.research.google.com/assets/colab-badge.svg\" alt=\"Open In Colab\"/></a>"
      ]
    },
    {
      "cell_type": "markdown",
      "metadata": {
        "id": "aJ-1NTdRriK0"
      },
      "source": [
        "1.  Try writing a line that prints a \"hello\" message."
      ]
    },
    {
      "cell_type": "code",
      "execution_count": null,
      "metadata": {
        "colab": {
          "base_uri": "https://localhost:8080/"
        },
        "id": "16mqF1GkrbSu",
        "outputId": "0d14d133-0e86-4b24-f68d-352e2c3dd820"
      },
      "outputs": [
        {
          "output_type": "stream",
          "name": "stdout",
          "text": [
            "hello\n"
          ]
        }
      ],
      "source": [
        "print (\"hello\")"
      ]
    },
    {
      "cell_type": "markdown",
      "metadata": {
        "id": "Scttxs2srojl"
      },
      "source": [
        "2.  Try using the math module to find the square root of 169."
      ]
    },
    {
      "cell_type": "code",
      "execution_count": null,
      "metadata": {
        "colab": {
          "base_uri": "https://localhost:8080/"
        },
        "id": "LqojDfAYrwLR",
        "outputId": "9f906310-b516-4e0a-b9e2-4a3817bd63eb"
      },
      "outputs": [
        {
          "output_type": "execute_result",
          "data": {
            "text/plain": [
              "13.0"
            ]
          },
          "metadata": {},
          "execution_count": 3
        }
      ],
      "source": [
        "import math\n",
        "math.sqrt (169)"
      ]
    },
    {
      "cell_type": "markdown",
      "metadata": {
        "id": "nqMo62kRr1Fk"
      },
      "source": [
        "3.  Try writing a haiku, then printing that haiku with the correct newlines."
      ]
    },
    {
      "cell_type": "code",
      "execution_count": null,
      "metadata": {
        "colab": {
          "base_uri": "https://localhost:8080/"
        },
        "id": "ZvW_dDZisAMO",
        "outputId": "897ee715-9dfd-48df-fb4f-8279b84f27c0"
      },
      "outputs": [
        {
          "output_type": "stream",
          "name": "stdout",
          "text": [
            "As the birds fly south\n",
            "we make reservations to\n",
            "go to Florida\n"
          ]
        }
      ],
      "source": [
        "print (\"As the birds fly south\\nwe make reservations to\\ngo to Florida\")"
      ]
    },
    {
      "cell_type": "markdown",
      "metadata": {
        "id": "cQc37itksBwS"
      },
      "source": [
        "4.  Try writing an expression that is true unless both a and b are True."
      ]
    },
    {
      "cell_type": "code",
      "source": [
        "a = True\n",
        "b = True\n",
        "if a == True and b == True:\n",
        "  print (\"True\")\n",
        "else:\n",
        "  print (\"False\")\n"
      ],
      "metadata": {
        "colab": {
          "base_uri": "https://localhost:8080/"
        },
        "id": "ddxBXT9eGN4E",
        "outputId": "f1433461-8557-4cd0-e43d-c99f3f9d9916"
      },
      "execution_count": null,
      "outputs": [
        {
          "output_type": "stream",
          "name": "stdout",
          "text": [
            "False\n"
          ]
        }
      ]
    },
    {
      "cell_type": "markdown",
      "metadata": {
        "id": "EVo68B54UEu7"
      },
      "source": [
        "5.  Write code that prints a different message depending on whether the variable *a* is positive (print \"Positive\"), negative (print \"Negative\"), or 0 (print \"Zero\")."
      ]
    },
    {
      "cell_type": "code",
      "execution_count": null,
      "metadata": {
        "id": "V6M-_gvYVPA1",
        "colab": {
          "base_uri": "https://localhost:8080/"
        },
        "outputId": "4d5a416b-ccef-4aed-fe77-33cbcd22f293"
      },
      "outputs": [
        {
          "output_type": "stream",
          "name": "stdout",
          "text": [
            "Negative\n"
          ]
        }
      ],
      "source": [
        "a = -9\n",
        "if a > 0:\n",
        "  print (\"Positive\")\n",
        "elif a < 0:\n",
        "  print (\"Negative\")\n",
        "elif a == 0:\n",
        "  print (\"Zero\")"
      ]
    },
    {
      "cell_type": "markdown",
      "metadata": {
        "id": "yE6XCjnAVb4U"
      },
      "source": [
        "6.  Define a list with 4 items in it.  Then write a line that adds a fifth element to the list."
      ]
    },
    {
      "cell_type": "code",
      "execution_count": null,
      "metadata": {
        "colab": {
          "base_uri": "https://localhost:8080/"
        },
        "id": "GIG3v8bFWA6n",
        "outputId": "8569cbb4-c27d-4b5a-91f2-03d0ecac0aed"
      },
      "outputs": [
        {
          "output_type": "stream",
          "name": "stdout",
          "text": [
            "[5, 4, 3, 2, 6]\n"
          ]
        }
      ],
      "source": [
        "my_list = [5,4,3,2]\n",
        "my_list.append (6)\n",
        "print (my_list)"
      ]
    },
    {
      "cell_type": "markdown",
      "metadata": {
        "id": "rPwFhU3fB6Rh"
      },
      "source": [
        "7.  Write code that takes the list represented by the variable L and pads it with a 0 if the list is of an odd length.  For example, [1,2,3] becomes [1,2,3,0] while [1,2] stays [1,2]."
      ]
    },
    {
      "cell_type": "code",
      "execution_count": null,
      "metadata": {
        "colab": {
          "base_uri": "https://localhost:8080/"
        },
        "id": "-oufgPxTB6Rh",
        "outputId": "2bf9400f-abbc-4f61-d3c7-de9f67b27b79"
      },
      "outputs": [
        {
          "output_type": "stream",
          "name": "stdout",
          "text": [
            "[1, 2, 3, 4, 5, 0]\n"
          ]
        }
      ],
      "source": [
        "L = [1,2,3,4,5]\n",
        "if len(L) % 2 ==0:\n",
        "    print (L)\n",
        "else:\n",
        "  L.append(0)\n",
        "  print (L)\n",
        "\n"
      ]
    },
    {
      "cell_type": "markdown",
      "metadata": {
        "id": "NGSmDIiwB6Rh"
      },
      "source": [
        "# Tool focus:  Version Control\n",
        "\n",
        "Have you ever worked on a project where you needed to pass around a file to modify?  You probably were a little discontent with the process.  Near the end, it may have been hard to determine whether FinalFinal.docx was really your most recent copy, or if there might be a FinalFinalFinal.docx that was more recent.  If you were collaborating, it may have been annoying to try to keep people from working on the same stuff simultaneously.  And if you wanted to go back to an earlier version, you could only hope you saved a separate version around the right time."
      ]
    },
    {
      "cell_type": "markdown",
      "metadata": {
        "id": "0QS42FXiB6Ri"
      },
      "source": [
        "*Version control*, and the git/Github software and site in particular, is the programmer's answer to all the aforementioned problems.\n",
        "\n",
        "* A central server keeps track of a series of versions of the code.  It's always clear what the most recent version is, and it's relatively easy to go back to an earlier version.  If code becomes buggy, this helps determine when the bug was introduced.\n",
        "\n",
        "* When people get copies to work on locally, on their own machines, they create their own individual histories locally.  People are free to ignore their collaborators' work until they merge their changes back into the central repository.\n",
        "\n",
        "* When it's time to merge local changes into the central repository, the code is scanned for differences, and any discrepancies resulting from others' changes are highlighted and resolved."
      ]
    },
    {
      "cell_type": "markdown",
      "metadata": {
        "id": "paJPFKZMB6Ri"
      },
      "source": [
        "If you become familiar with version control now, it may especially help with the final project, where you will have multiple individuals trying to work with the same files at the same time."
      ]
    },
    {
      "cell_type": "markdown",
      "metadata": {
        "id": "GnPiqX26B6Ri"
      },
      "source": [
        "* If you do not already have a github account, go create one now at:  https://github.com/\n",
        "* Once you've created an account, create a new repository.  If you don't see the big green button immediately, you can click on yourself, then on \"Respositories,\" then \"New\" in the upper right.\n",
        "* Name your repository something arbitrary, like \"repo_test.\"  Also make it private.  The other options don't really matter right now.\n",
        "* Assuming you are doing this recitation in Colab, go to File->Save a copy in GitHub.  Choose your notebook and save it to GitHub!  (You might also change the commit message - this is a good habit to get into so that you can find particular versions later.)\n",
        "* Check the repo on the GitHub website (under your username->Repositories), and verify that your code is now on the web (privately, assuming you chose \"private\")."
      ]
    },
    {
      "cell_type": "markdown",
      "metadata": {
        "id": "wXjv-UpZB6Ri"
      },
      "source": [
        "* Now let's try going back to an earlier version.  Fill the following code box with junk, and File->Save a copy in GitHub."
      ]
    },
    {
      "cell_type": "code",
      "execution_count": null,
      "metadata": {
        "id": "IbWmp_iIB6Ri"
      },
      "outputs": [],
      "source": []
    },
    {
      "cell_type": "markdown",
      "metadata": {
        "id": "4BOpPB3YB6Ri"
      },
      "source": [
        "* You can now see both versions of the notebook in the GitHub repository history.  (Repositories->your_repo_name->your_filename->History, with the clock icon.)\n",
        "* To open the most recent version, go to \"File->Open Notebook\" in Colab and choose the GitHub tab at the top.  Choose your repo and open it.\n",
        "* You can also access the versions in your history from Colab.  Go to File->Revision History.  (Notice that the right-hand side displays differences between the files.)  The dots next to each item in the history have the option of Open in Colab.  Try restoring an old version now."
      ]
    },
    {
      "cell_type": "markdown",
      "metadata": {
        "id": "vfmSGgCqB6Rj"
      },
      "source": [
        "* Last, try collaborating with someone on this file.  Within your repo on GitHub, go to Settings->Collaborators->Add people.  Add someone in your section who is willing to share their username with you.  \"Sign\" each others' work in the last text box, and show this along with your completed code to the TA to finish this section."
      ]
    },
    {
      "cell_type": "markdown",
      "metadata": {
        "id": "CuylsSTGB6Rj"
      },
      "source": [
        "**Your collaborator's \"signature\" here**"
      ]
    },
    {
      "cell_type": "code",
      "execution_count": null,
      "metadata": {
        "id": "QjmoiBAMB6Rj"
      },
      "outputs": [],
      "source": []
    }
  ],
  "metadata": {
    "colab": {
      "provenance": [],
      "include_colab_link": true
    },
    "kernelspec": {
      "display_name": "Python 3",
      "language": "python",
      "name": "python3"
    },
    "language_info": {
      "codemirror_mode": {
        "name": "ipython",
        "version": 3
      },
      "file_extension": ".py",
      "mimetype": "text/x-python",
      "name": "python",
      "nbconvert_exporter": "python",
      "pygments_lexer": "ipython3",
      "version": "3.8.8"
    }
  },
  "nbformat": 4,
  "nbformat_minor": 0
}